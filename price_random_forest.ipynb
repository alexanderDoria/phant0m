{
 "cells": [
  {
   "cell_type": "code",
   "execution_count": 360,
   "metadata": {},
   "outputs": [],
   "source": [
    "import pandas as pd\n",
    "from sklearn.metrics import classification_report\n",
    "from sklearn.ensemble import RandomForestClassifier\n",
    "from sklearn.model_selection import train_test_split\n",
    "from stock_utils import eng_features"
   ]
  },
  {
   "cell_type": "markdown",
   "metadata": {},
   "source": [
    "### read data and engineer features"
   ]
  },
  {
   "cell_type": "code",
   "execution_count": 362,
   "metadata": {},
   "outputs": [],
   "source": [
    "#read data\n",
    "alpha = pd.read_csv(\"data/QQQ_daily.csv\")\n",
    "omega = pd.read_csv(\"data/SPY_daily.csv\")\n",
    "\n",
    "#performance features\n",
    "alpha['high_adj'] = (alpha['High'] - alpha['Close']) / alpha['Close']\n",
    "alpha['low_adj'] = (alpha['Low'] - alpha['Close']) / alpha['Close']\n",
    "alpha['body'] = (alpha['Close'] - alpha['Open']) / alpha['Open']\n",
    "\n",
    "#return features\n",
    "alpha['close_prev'] = alpha['Close'].shift(1)\n",
    "alpha['close_next'] = alpha['Close'].shift(-1)\n",
    "alpha['close_next_3_days'] = alpha['Close'].shift(-3)\n",
    "alpha['close_prev_3_days'] = alpha['Close'].shift(3)\n",
    "alpha['close_prev_week'] = alpha['Close'].shift(7)\n",
    "alpha['close_next_week'] = alpha['Close'].shift(-7)\n",
    "\n",
    "alpha['change'] = (alpha['Close'] - alpha['close_prev']) / alpha['close_prev']\n",
    "\n",
    "#future performance\n",
    "alpha['change_next'] = (alpha['close_next'] - alpha['Close']) / alpha['Close']\n",
    "alpha['change_next_3_days'] = (alpha['close_next_3_days'] - alpha['Close']) / alpha['Close']\n",
    "alpha['change_next_week'] = (alpha['close_next_week'] - alpha['Close']) / alpha['Close']\n",
    "\n",
    "#past performance\n",
    "alpha['change_prev_3_days'] = (alpha['Close'] - alpha['close_prev_3_days']) / alpha['close_prev_3_days']\n",
    "\n",
    "#MA features\n",
    "alpha['ma_7'] = alpha['Close'].rolling(window=7).mean()\n",
    "alpha['ma_3'] = alpha['Close'].rolling(window=3).mean()\n",
    "alpha['ma_200'] = alpha['Close'].rolling(window=200).mean()\n",
    "\n",
    "#macro trend (above longer term MA)\n",
    "omega['ma_200'] = omega['Close'].rolling(window=200).mean()\n",
    "omega['macro_uptrend'] = omega['ma_200'] < omega['Close']\n",
    "omega['macro_uptrend'] = omega['macro_uptrend'].apply(lambda x: 1 if x else 0)\n",
    "omega['pct_above_ma_200'] = (omega['Close'] - omega['ma_200']) / omega['Close']\n",
    "\n",
    "#micro trend (above shorter term MA)\n",
    "alpha['pct_above_ma_7'] = (alpha['Close'] - alpha['ma_7']) / alpha['Close']\n",
    "alpha['pct_above_ma_3'] = (alpha['Close'] - alpha['ma_3']) / alpha['Close']\n",
    "\n",
    "#normalized MA slopes\n",
    "alpha['ma_7_prev'] = alpha['ma_7'].shift(1) \n",
    "alpha['ma_7_change'] = (alpha['ma_7'] - alpha['ma_7_prev']) / alpha['ma_7_prev']\n",
    "alpha['ma_3_prev'] = alpha['ma_3'].shift(1) \n",
    "alpha['ma_3_change'] = (alpha['ma_3'] - alpha['ma_3_prev']) / alpha['ma_3_prev']\n",
    "\n",
    "#combine macro trends\n",
    "omega = omega[['Date', 'macro_uptrend', 'pct_above_ma_200']]\n",
    "alpha = pd.merge(alpha, omega, how='inner', on='Date')\n",
    "\n",
    "#create labels\n",
    "alpha['z_change_next_3_days'] = (alpha['change_next_3_days'] - alpha['change_next_3_days'].mean()) / alpha['change_next_3_days'].std()\n",
    "alpha['z_change_next_3_days'] = np.rint(alpha['z_change_next_3_days'])\n",
    "alpha['z_change_next_3_days'] = alpha['z_change_next_3_days'].apply(lambda x: -1 if x <= -1 else 1)\n"
   ]
  },
  {
   "cell_type": "markdown",
   "metadata": {},
   "source": [
    "### visualize labels"
   ]
  },
  {
   "cell_type": "code",
   "execution_count": 363,
   "metadata": {},
   "outputs": [
    {
     "data": {
      "text/plain": [
       "<matplotlib.axes._subplots.AxesSubplot at 0x1a211db490>"
      ]
     },
     "execution_count": 363,
     "metadata": {},
     "output_type": "execute_result"
    },
    {
     "data": {
      "image/png": "[encoded data removed]",
      "text/plain": [
       "<Figure size 432x288 with 1 Axes>"
      ]
     },
     "metadata": {
      "needs_background": "light"
     },
     "output_type": "display_data"
    }
   ],
   "source": [
    "alpha['z_change_next_3_days'].hist(bins=20)"
   ]
  },
  {
   "cell_type": "code",
   "execution_count": 364,
   "metadata": {},
   "outputs": [],
   "source": [
    "alpha = alpha.dropna()\n",
    "cols = ['high_adj', 'low_adj', 'body',\n",
    "        'change', 'change_prev_3_days',\n",
    "        'macro_uptrend',\n",
    "        'pct_above_ma_200', 'pct_above_ma_7', 'pct_above_ma_3',\n",
    "        'ma_7_change', 'ma_3_change']\n",
    "\n",
    "X = np.asanyarray(alpha[cols])\n",
    "y = np.asanyarray(alpha['z_change_next_3_days'])\n",
    "\n",
    "X_train, X_test, y_train, y_test = train_test_split(X, y, test_size=0.2, random_state=1)\n"
   ]
  },
  {
   "cell_type": "code",
   "execution_count": 365,
   "metadata": {},
   "outputs": [
    {
     "name": "stderr",
     "output_type": "stream",
     "text": [
      "/Users/alexdoria/opt/anaconda3/lib/python3.7/site-packages/sklearn/ensemble/forest.py:245: FutureWarning: The default value of n_estimators will change from 10 in version 0.20 to 100 in 0.22.\n",
      "  \"10 in version 0.20 to 100 in 0.22.\", FutureWarning)\n"
     ]
    }
   ],
   "source": [
    "clf = RandomForestClassifier(max_depth=5, random_state=1)\n",
    "clf = clf.fit(X_train, y_train)\n",
    "yhat = clf.predict(X_test)"
   ]
  },
  {
   "cell_type": "code",
   "execution_count": 366,
   "metadata": {},
   "outputs": [
    {
     "name": "stdout",
     "output_type": "stream",
     "text": [
      "              precision    recall  f1-score   support\n",
      "\n",
      "          -1       0.40      0.02      0.03       239\n",
      "           1       0.76      0.99      0.86       768\n",
      "\n",
      "    accuracy                           0.76      1007\n",
      "   macro avg       0.58      0.50      0.45      1007\n",
      "weighted avg       0.68      0.76      0.67      1007\n",
      "\n"
     ]
    }
   ],
   "source": [
    "print (classification_report(y_test, yhat))"
   ]
  },
  {
   "cell_type": "markdown",
   "metadata": {},
   "source": [
    "### evalute model"
   ]
  },
  {
   "cell_type": "code",
   "execution_count": 376,
   "metadata": {},
   "outputs": [],
   "source": [
    "ev = pd.DataFrame(X_test, columns=cols)\n",
    "ev['predicted'] = yhat\n",
    "ev['actual'] = y_test"
   ]
  },
  {
   "cell_type": "code",
   "execution_count": 383,
   "metadata": {},
   "outputs": [
    {
     "data": {
      "text/html": [
       "<div>\n",
       "<style scoped>\n",
       "    .dataframe tbody tr th:only-of-type {\n",
       "        vertical-align: middle;\n",
       "    }\n",
       "\n",
       "    .dataframe tbody tr th {\n",
       "        vertical-align: top;\n",
       "    }\n",
       "\n",
       "    .dataframe thead th {\n",
       "        text-align: right;\n",
       "    }\n",
       "</style>\n",
       "<table border=\"1\" class=\"dataframe\">\n",
       "  <thead>\n",
       "    <tr style=\"text-align: right;\">\n",
       "      <th></th>\n",
       "      <th>high_adj</th>\n",
       "      <th>low_adj</th>\n",
       "      <th>body</th>\n",
       "      <th>change</th>\n",
       "      <th>change_prev_3_days</th>\n",
       "      <th>macro_uptrend</th>\n",
       "      <th>pct_above_ma_200</th>\n",
       "      <th>pct_above_ma_7</th>\n",
       "      <th>pct_above_ma_3</th>\n",
       "      <th>ma_7_change</th>\n",
       "      <th>ma_3_change</th>\n",
       "      <th>predicted</th>\n",
       "      <th>actual</th>\n",
       "    </tr>\n",
       "  </thead>\n",
       "  <tbody>\n",
       "    <tr>\n",
       "      <td>231</td>\n",
       "      <td>0.024992</td>\n",
       "      <td>-0.029259</td>\n",
       "      <td>0.022756</td>\n",
       "      <td>0.007369</td>\n",
       "      <td>0.109946</td>\n",
       "      <td>0.0</td>\n",
       "      <td>-0.025274</td>\n",
       "      <td>0.054644</td>\n",
       "      <td>0.023265</td>\n",
       "      <td>0.018005</td>\n",
       "      <td>0.034988</td>\n",
       "      <td>-1</td>\n",
       "      <td>-1</td>\n",
       "    </tr>\n",
       "    <tr>\n",
       "      <td>276</td>\n",
       "      <td>0.004615</td>\n",
       "      <td>-0.081538</td>\n",
       "      <td>0.087866</td>\n",
       "      <td>0.081531</td>\n",
       "      <td>0.037510</td>\n",
       "      <td>0.0</td>\n",
       "      <td>-0.052350</td>\n",
       "      <td>0.009670</td>\n",
       "      <td>0.042308</td>\n",
       "      <td>-0.007708</td>\n",
       "      <td>0.012744</td>\n",
       "      <td>-1</td>\n",
       "      <td>-1</td>\n",
       "    </tr>\n",
       "    <tr>\n",
       "      <td>430</td>\n",
       "      <td>0.060703</td>\n",
       "      <td>-0.011502</td>\n",
       "      <td>-0.011058</td>\n",
       "      <td>0.009677</td>\n",
       "      <td>0.089453</td>\n",
       "      <td>0.0</td>\n",
       "      <td>-0.142095</td>\n",
       "      <td>0.059881</td>\n",
       "      <td>0.029606</td>\n",
       "      <td>0.007829</td>\n",
       "      <td>0.029023</td>\n",
       "      <td>-1</td>\n",
       "      <td>1</td>\n",
       "    </tr>\n",
       "    <tr>\n",
       "      <td>610</td>\n",
       "      <td>0.012014</td>\n",
       "      <td>-0.046643</td>\n",
       "      <td>0.039677</td>\n",
       "      <td>0.061117</td>\n",
       "      <td>0.053611</td>\n",
       "      <td>0.0</td>\n",
       "      <td>-0.461452</td>\n",
       "      <td>0.025341</td>\n",
       "      <td>0.051472</td>\n",
       "      <td>-0.011063</td>\n",
       "      <td>0.018207</td>\n",
       "      <td>-1</td>\n",
       "      <td>1</td>\n",
       "    </tr>\n",
       "    <tr>\n",
       "      <td>686</td>\n",
       "      <td>0.010658</td>\n",
       "      <td>-0.034483</td>\n",
       "      <td>0.033477</td>\n",
       "      <td>0.044076</td>\n",
       "      <td>0.069752</td>\n",
       "      <td>0.0</td>\n",
       "      <td>-0.030664</td>\n",
       "      <td>0.032691</td>\n",
       "      <td>0.026611</td>\n",
       "      <td>-0.006287</td>\n",
       "      <td>0.022839</td>\n",
       "      <td>-1</td>\n",
       "      <td>1</td>\n",
       "    </tr>\n",
       "    <tr>\n",
       "      <td>737</td>\n",
       "      <td>0.008575</td>\n",
       "      <td>-0.030216</td>\n",
       "      <td>0.003689</td>\n",
       "      <td>0.019355</td>\n",
       "      <td>0.084828</td>\n",
       "      <td>0.0</td>\n",
       "      <td>-0.064532</td>\n",
       "      <td>0.061774</td>\n",
       "      <td>0.025589</td>\n",
       "      <td>0.012050</td>\n",
       "      <td>0.027485</td>\n",
       "      <td>-1</td>\n",
       "      <td>-1</td>\n",
       "    </tr>\n",
       "    <tr>\n",
       "      <td>837</td>\n",
       "      <td>0.001232</td>\n",
       "      <td>-0.044421</td>\n",
       "      <td>0.041717</td>\n",
       "      <td>0.026499</td>\n",
       "      <td>-0.033639</td>\n",
       "      <td>1.0</td>\n",
       "      <td>0.058789</td>\n",
       "      <td>-0.022030</td>\n",
       "      <td>0.003881</td>\n",
       "      <td>-0.007369</td>\n",
       "      <td>-0.011514</td>\n",
       "      <td>-1</td>\n",
       "      <td>-1</td>\n",
       "    </tr>\n",
       "    <tr>\n",
       "      <td>970</td>\n",
       "      <td>0.036585</td>\n",
       "      <td>-0.013415</td>\n",
       "      <td>-0.027514</td>\n",
       "      <td>0.030151</td>\n",
       "      <td>0.140473</td>\n",
       "      <td>0.0</td>\n",
       "      <td>-0.170950</td>\n",
       "      <td>0.094704</td>\n",
       "      <td>0.041870</td>\n",
       "      <td>0.014050</td>\n",
       "      <td>0.044769</td>\n",
       "      <td>-1</td>\n",
       "      <td>1</td>\n",
       "    </tr>\n",
       "    <tr>\n",
       "      <td>979</td>\n",
       "      <td>0.004717</td>\n",
       "      <td>-0.091195</td>\n",
       "      <td>0.060000</td>\n",
       "      <td>0.062657</td>\n",
       "      <td>-0.026779</td>\n",
       "      <td>1.0</td>\n",
       "      <td>0.005300</td>\n",
       "      <td>-0.047844</td>\n",
       "      <td>0.010744</td>\n",
       "      <td>-0.014888</td>\n",
       "      <td>-0.009186</td>\n",
       "      <td>-1</td>\n",
       "      <td>1</td>\n",
       "    </tr>\n",
       "    <tr>\n",
       "      <td>988</td>\n",
       "      <td>0.003909</td>\n",
       "      <td>-0.037351</td>\n",
       "      <td>0.011199</td>\n",
       "      <td>0.029510</td>\n",
       "      <td>-0.001518</td>\n",
       "      <td>0.0</td>\n",
       "      <td>-0.049182</td>\n",
       "      <td>-0.020226</td>\n",
       "      <td>0.021281</td>\n",
       "      <td>-0.014533</td>\n",
       "      <td>-0.000517</td>\n",
       "      <td>-1</td>\n",
       "      <td>1</td>\n",
       "    </tr>\n",
       "  </tbody>\n",
       "</table>\n",
       "</div>"
      ],
      "text/plain": [
       "     high_adj   low_adj      body    change  change_prev_3_days  \\\n",
       "231  0.024992 -0.029259  0.022756  0.007369            0.109946   \n",
       "276  0.004615 -0.081538  0.087866  0.081531            0.037510   \n",
       "430  0.060703 -0.011502 -0.011058  0.009677            0.089453   \n",
       "610  0.012014 -0.046643  0.039677  0.061117            0.053611   \n",
       "686  0.010658 -0.034483  0.033477  0.044076            0.069752   \n",
       "737  0.008575 -0.030216  0.003689  0.019355            0.084828   \n",
       "837  0.001232 -0.044421  0.041717  0.026499           -0.033639   \n",
       "970  0.036585 -0.013415 -0.027514  0.030151            0.140473   \n",
       "979  0.004717 -0.091195  0.060000  0.062657           -0.026779   \n",
       "988  0.003909 -0.037351  0.011199  0.029510           -0.001518   \n",
       "\n",
       "     macro_uptrend  pct_above_ma_200  pct_above_ma_7  pct_above_ma_3  \\\n",
       "231            0.0         -0.025274        0.054644        0.023265   \n",
       "276            0.0         -0.052350        0.009670        0.042308   \n",
       "430            0.0         -0.142095        0.059881        0.029606   \n",
       "610            0.0         -0.461452        0.025341        0.051472   \n",
       "686            0.0         -0.030664        0.032691        0.026611   \n",
       "737            0.0         -0.064532        0.061774        0.025589   \n",
       "837            1.0          0.058789       -0.022030        0.003881   \n",
       "970            0.0         -0.170950        0.094704        0.041870   \n",
       "979            1.0          0.005300       -0.047844        0.010744   \n",
       "988            0.0         -0.049182       -0.020226        0.021281   \n",
       "\n",
       "     ma_7_change  ma_3_change  predicted  actual  \n",
       "231     0.018005     0.034988         -1      -1  \n",
       "276    -0.007708     0.012744         -1      -1  \n",
       "430     0.007829     0.029023         -1       1  \n",
       "610    -0.011063     0.018207         -1       1  \n",
       "686    -0.006287     0.022839         -1       1  \n",
       "737     0.012050     0.027485         -1      -1  \n",
       "837    -0.007369    -0.011514         -1      -1  \n",
       "970     0.014050     0.044769         -1       1  \n",
       "979    -0.014888    -0.009186         -1       1  \n",
       "988    -0.014533    -0.000517         -1       1  "
      ]
     },
     "execution_count": 383,
     "metadata": {},
     "output_type": "execute_result"
    }
   ],
   "source": [
    "ev[ev['predicted'] == -1]"
   ]
  },
  {
   "cell_type": "code",
   "execution_count": 381,
   "metadata": {},
   "outputs": [
    {
     "data": {
      "text/plain": [
       "0.0    8\n",
       "1.0    2\n",
       "Name: macro_uptrend, dtype: int64"
      ]
     },
     "execution_count": 381,
     "metadata": {},
     "output_type": "execute_result"
    }
   ],
   "source": [
    "ev[ev['predicted'] == -1]['macro_uptrend'].value_counts()"
   ]
  },
  {
   "cell_type": "code",
   "execution_count": null,
   "metadata": {},
   "outputs": [],
   "source": []
  }
 ],
 "metadata": {
  "kernelspec": {
   "display_name": "Python 3",
   "language": "python",
   "name": "python3"
  },
  "language_info": {
   "codemirror_mode": {
    "name": "ipython",
    "version": 3
   },
   "file_extension": ".py",
   "mimetype": "text/x-python",
   "name": "python",
   "nbconvert_exporter": "python",
   "pygments_lexer": "ipython3",
   "version": "3.7.4"
  }
 },
 "nbformat": 4,
 "nbformat_minor": 2
}

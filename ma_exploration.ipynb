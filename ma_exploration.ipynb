{
 "cells": [
  {
   "cell_type": "code",
   "execution_count": 1,
   "metadata": {},
   "outputs": [],
   "source": [
    "from sklearn.cluster import KMeans\n",
    "import pandas as pd\n",
    "import numpy as np\n",
    "import matplotlib\n",
    "import matplotlib.pyplot as plt \n",
    "from sklearn.preprocessing import StandardScaler\n",
    "import plotly.graph_objects as go"
   ]
  },
  {
   "cell_type": "code",
   "execution_count": 29,
   "metadata": {},
   "outputs": [],
   "source": [
    "# three vehicles\n",
    "\n",
    "#alpha: TQQQ, TECL\n",
    "#beta: XLU\n",
    "#omega: SPY, QQQ"
   ]
  },
  {
   "cell_type": "markdown",
   "metadata": {},
   "source": [
    "### read data"
   ]
  },
  {
   "cell_type": "code",
   "execution_count": 106,
   "metadata": {},
   "outputs": [],
   "source": [
    "alpha = pd.read_csv(\"data/TQQQ_daily.csv\")\n",
    "omega = pd.read_csv(\"data/QQQ_daily.csv\")"
   ]
  },
  {
   "cell_type": "markdown",
   "metadata": {},
   "source": [
    "### engineer features"
   ]
  },
  {
   "cell_type": "code",
   "execution_count": 157,
   "metadata": {},
   "outputs": [],
   "source": [
    "#performance features\n",
    "alpha['high_adj'] = (alpha['High'] - alpha['Close']) / alpha['Close']\n",
    "alpha['low_adj'] = (alpha['Low'] - alpha['Close']) / alpha['Close']\n",
    "alpha['body'] = (alpha['Close'] - alpha['Open']) / alpha['Open']\n",
    "\n",
    "#return features\n",
    "alpha['close_prev'] = alpha['Close'].shift(1)\n",
    "alpha['close_next'] = alpha['Close'].shift(-1)\n",
    "\n",
    "alpha['close_prev_week'] = alpha['Close'].shift(7)\n",
    "alpha['close_next_week'] = alpha['Close'].shift(-7)\n",
    "\n",
    "alpha['change'] = (alpha['Close'] - alpha['close_prev']) / alpha['close_prev']\n",
    "alpha['change_next'] = (alpha['Close'] - alpha['close_next']) / alpha['Close']\n",
    "alpha['change_next_week'] = (alpha['Close'] - alpha['close_next_week']) / alpha['Close']\n",
    "\n",
    "#MA features\n",
    "alpha['ma_7'] = alpha['Close'].rolling(window=7).mean()\n",
    "alpha['ma_3'] = alpha['Close'].rolling(window=3).mean()\n",
    "alpha['ma_200'] = alpha['Close'].rolling(window=200).mean()\n",
    "\n",
    "#macro trend (above longer term MA)\n",
    "alpha['macro_uptrend'] = alpha['ma_200'] < alpha['Close']\n",
    "alpha['macro_uptrend'] = alpha['macro_uptrend'].apply(lambda x: 1 if x else 0)\n",
    "alpha['pct_above_ma_200'] = (alpha['Close'] - alpha['ma_200']) / stocks['Close']\n",
    "\n",
    "#micro trend (above shorter term MA)\n",
    "alpha['pct_above_ma_7'] = (alpha['Close'] - alpha['ma_7']) / alpha['Close']\n",
    "alpha['pct_above_ma_3'] = (alpha['Close'] - alpha['ma_3']) / alpha['Close']\n",
    "\n",
    "#normalized MA slopes\n",
    "alpha['ma_7_prev'] = alpha['ma_7'].shift(1) \n",
    "alpha['ma_7_change'] = (alpha['ma_7'] - alpha['ma_7_prev']) / alpha['ma_7_prev']\n",
    "\n",
    "\n",
    "#feature wishlist\n",
    "# - MA slope\n",
    "# - drawdown in next 3 days\n",
    "# - volume % above n day average\n",
    "# - consecutive days above MA\n",
    "\n",
    "#label wishlist\n",
    "# - 3 day return\n",
    "\n",
    "#questions\n",
    "#are returns better on 1st or 2nd day of closes above MA\n",
    "\n",
    "alpha = alpha.iloc[200:]"
   ]
  },
  {
   "cell_type": "code",
   "execution_count": 158,
   "metadata": {},
   "outputs": [
    {
     "data": {
      "text/html": [
       "<div>\n",
       "<style scoped>\n",
       "    .dataframe tbody tr th:only-of-type {\n",
       "        vertical-align: middle;\n",
       "    }\n",
       "\n",
       "    .dataframe tbody tr th {\n",
       "        vertical-align: top;\n",
       "    }\n",
       "\n",
       "    .dataframe thead th {\n",
       "        text-align: right;\n",
       "    }\n",
       "</style>\n",
       "<table border=\"1\" class=\"dataframe\">\n",
       "  <thead>\n",
       "    <tr style=\"text-align: right;\">\n",
       "      <th></th>\n",
       "      <th>Date</th>\n",
       "      <th>Open</th>\n",
       "      <th>Close</th>\n",
       "      <th>close_next</th>\n",
       "      <th>close_next</th>\n",
       "      <th>ma_7_prev</th>\n",
       "      <th>ma_7</th>\n",
       "      <th>ma_7_change</th>\n",
       "    </tr>\n",
       "  </thead>\n",
       "  <tbody>\n",
       "    <tr>\n",
       "      <td>1600</td>\n",
       "      <td>2016-06-21</td>\n",
       "      <td>16.131666</td>\n",
       "      <td>16.193333</td>\n",
       "      <td>16.088333</td>\n",
       "      <td>16.088333</td>\n",
       "      <td>16.244524</td>\n",
       "      <td>16.163571</td>\n",
       "      <td>-0.004983</td>\n",
       "    </tr>\n",
       "    <tr>\n",
       "      <td>1601</td>\n",
       "      <td>2016-06-22</td>\n",
       "      <td>16.240000</td>\n",
       "      <td>16.088333</td>\n",
       "      <td>16.766666</td>\n",
       "      <td>16.766666</td>\n",
       "      <td>16.163571</td>\n",
       "      <td>16.129047</td>\n",
       "      <td>-0.002136</td>\n",
       "    </tr>\n",
       "    <tr>\n",
       "      <td>1602</td>\n",
       "      <td>2016-06-23</td>\n",
       "      <td>16.461666</td>\n",
       "      <td>16.766666</td>\n",
       "      <td>14.713333</td>\n",
       "      <td>14.713333</td>\n",
       "      <td>16.129047</td>\n",
       "      <td>16.190238</td>\n",
       "      <td>0.003794</td>\n",
       "    </tr>\n",
       "    <tr>\n",
       "      <td>1603</td>\n",
       "      <td>2016-06-24</td>\n",
       "      <td>15.000000</td>\n",
       "      <td>14.713333</td>\n",
       "      <td>13.856667</td>\n",
       "      <td>13.856667</td>\n",
       "      <td>16.190238</td>\n",
       "      <td>15.979047</td>\n",
       "      <td>-0.013044</td>\n",
       "    </tr>\n",
       "    <tr>\n",
       "      <td>1604</td>\n",
       "      <td>2016-06-27</td>\n",
       "      <td>14.378333</td>\n",
       "      <td>13.856667</td>\n",
       "      <td>14.725000</td>\n",
       "      <td>14.725000</td>\n",
       "      <td>15.979047</td>\n",
       "      <td>15.628809</td>\n",
       "      <td>-0.021919</td>\n",
       "    </tr>\n",
       "  </tbody>\n",
       "</table>\n",
       "</div>"
      ],
      "text/plain": [
       "            Date       Open      Close  close_next  close_next  ma_7_prev  \\\n",
       "1600  2016-06-21  16.131666  16.193333   16.088333   16.088333  16.244524   \n",
       "1601  2016-06-22  16.240000  16.088333   16.766666   16.766666  16.163571   \n",
       "1602  2016-06-23  16.461666  16.766666   14.713333   14.713333  16.129047   \n",
       "1603  2016-06-24  15.000000  14.713333   13.856667   13.856667  16.190238   \n",
       "1604  2016-06-27  14.378333  13.856667   14.725000   14.725000  15.979047   \n",
       "\n",
       "           ma_7  ma_7_change  \n",
       "1600  16.163571    -0.004983  \n",
       "1601  16.129047    -0.002136  \n",
       "1602  16.190238     0.003794  \n",
       "1603  15.979047    -0.013044  \n",
       "1604  15.628809    -0.021919  "
      ]
     },
     "execution_count": 158,
     "metadata": {},
     "output_type": "execute_result"
    }
   ],
   "source": [
    "alpha[['Date', 'Open', 'Close', 'close_next', 'close_next', 'ma_7_prev', 'ma_7', 'ma_7_change']].head()"
   ]
  },
  {
   "cell_type": "markdown",
   "metadata": {},
   "source": [
    "### define and execute trade functions"
   ]
  },
  {
   "cell_type": "code",
   "execution_count": 110,
   "metadata": {},
   "outputs": [],
   "source": [
    "long = False\n",
    "\n",
    "def take_action(s, ma):\n",
    "    global long\n",
    "    if s['Close'] < s['ma_' + ma]:\n",
    "        if long: \n",
    "            long = False\n",
    "            return -1\n",
    "        else: return 0\n",
    "    if s['Close'] >= s['ma_' + ma]:\n",
    "        if long: return 0\n",
    "        else: \n",
    "            long = True\n",
    "            return 1\n",
    "\n",
    "alpha['action_ma_7'] = alpha.apply(take_action, axis=1, args=('7',))\n",
    "alpha['action_ma_3'] = alpha.apply(take_action, axis=1, args=('3',))\n"
   ]
  },
  {
   "cell_type": "code",
   "execution_count": 37,
   "metadata": {},
   "outputs": [],
   "source": [
    "sample = alpha.iloc[10:100]\n",
    "data = [go.Candlestick(\n",
    "                x=sample['Date'],\n",
    "                open=sample['Open'],\n",
    "                high=sample['High'],\n",
    "                low=sample['Low'],\n",
    "                close=sample['Close'],\n",
    "                name='price'),\n",
    "                go.Scatter(x=sample['Date'],\n",
    "                y=sample['ma_7'],\n",
    "                mode=\"lines\",\n",
    "                line={'color': 'cyan'},\n",
    "                name='MA 7')]\n",
    "annotations = []\n",
    "fig = go.Figure(data=data)\n",
    "\n",
    "\n",
    "#fig.show()"
   ]
  },
  {
   "cell_type": "code",
   "execution_count": 145,
   "metadata": {},
   "outputs": [
    {
     "data": {
      "text/html": [
       "<div>\n",
       "<style scoped>\n",
       "    .dataframe tbody tr th:only-of-type {\n",
       "        vertical-align: middle;\n",
       "    }\n",
       "\n",
       "    .dataframe tbody tr th {\n",
       "        vertical-align: top;\n",
       "    }\n",
       "\n",
       "    .dataframe thead th {\n",
       "        text-align: right;\n",
       "    }\n",
       "</style>\n",
       "<table border=\"1\" class=\"dataframe\">\n",
       "  <thead>\n",
       "    <tr style=\"text-align: right;\">\n",
       "      <th></th>\n",
       "      <th>Date</th>\n",
       "      <th>Close</th>\n",
       "      <th>ma_7</th>\n",
       "      <th>action_ma_7</th>\n",
       "    </tr>\n",
       "  </thead>\n",
       "  <tbody>\n",
       "    <tr>\n",
       "      <td>800</td>\n",
       "      <td>2013-04-18</td>\n",
       "      <td>4.661667</td>\n",
       "      <td>5.080714</td>\n",
       "      <td>0</td>\n",
       "    </tr>\n",
       "    <tr>\n",
       "      <td>801</td>\n",
       "      <td>2013-04-19</td>\n",
       "      <td>4.855000</td>\n",
       "      <td>5.016548</td>\n",
       "      <td>0</td>\n",
       "    </tr>\n",
       "    <tr>\n",
       "      <td>802</td>\n",
       "      <td>2013-04-22</td>\n",
       "      <td>5.004167</td>\n",
       "      <td>4.975000</td>\n",
       "      <td>1</td>\n",
       "    </tr>\n",
       "  </tbody>\n",
       "</table>\n",
       "</div>"
      ],
      "text/plain": [
       "           Date     Close      ma_7  action_ma_7\n",
       "800  2013-04-18  4.661667  5.080714            0\n",
       "801  2013-04-19  4.855000  5.016548            0\n",
       "802  2013-04-22  5.004167  4.975000            1"
      ]
     },
     "execution_count": 145,
     "metadata": {},
     "output_type": "execute_result"
    }
   ],
   "source": [
    "alpha[['Date', 'Close', 'ma_7', 'action_ma_7']].head(3)"
   ]
  },
  {
   "cell_type": "markdown",
   "metadata": {},
   "source": [
    "### feature binning"
   ]
  },
  {
   "cell_type": "code",
   "execution_count": 113,
   "metadata": {},
   "outputs": [
    {
     "data": {
      "text/plain": [
       "array([[<matplotlib.axes._subplots.AxesSubplot object at 0x1a26b4c550>,\n",
       "        <matplotlib.axes._subplots.AxesSubplot object at 0x1a23a20d90>]],\n",
       "      dtype=object)"
      ]
     },
     "execution_count": 113,
     "metadata": {},
     "output_type": "execute_result"
    },
    {
     "data": {
      "image/png": "[encoded data removed]",
      "text/plain": [
       "<Figure size 432x288 with 2 Axes>"
      ]
     },
     "metadata": {
      "needs_background": "light"
     },
     "output_type": "display_data"
    }
   ],
   "source": [
    "stocks[['pct_above_ma_7', 'pct_above_ma_3']].hist(bins=15)"
   ]
  },
  {
   "cell_type": "code",
   "execution_count": 156,
   "metadata": {},
   "outputs": [
    {
     "data": {
      "text/plain": [
       "<matplotlib.axes._subplots.AxesSubplot at 0x1a2744ff10>"
      ]
     },
     "execution_count": 156,
     "metadata": {},
     "output_type": "execute_result"
    },
    {
     "data": {
      "image/png": "[encoded data removed]",
      "text/plain": [
       "<Figure size 432x288 with 1 Axes>"
      ]
     },
     "metadata": {
      "needs_background": "light"
     },
     "output_type": "display_data"
    }
   ],
   "source": [
    "alpha['ma_7_slope'].hist(bins=20)"
   ]
  },
  {
   "cell_type": "markdown",
   "metadata": {},
   "source": [
    "### conditional probability exloration"
   ]
  },
  {
   "cell_type": "code",
   "execution_count": 129,
   "metadata": {},
   "outputs": [
    {
     "data": {
      "text/plain": [
       "<matplotlib.axes._subplots.AxesSubplot at 0x1a2630f2d0>"
      ]
     },
     "execution_count": 129,
     "metadata": {},
     "output_type": "execute_result"
    },
    {
     "data": {
      "image/png": "[encoded data removed]",
      "text/plain": [
       "<Figure size 432x288 with 1 Axes>"
      ]
     },
     "metadata": {
      "needs_background": "light"
     },
     "output_type": "display_data"
    }
   ],
   "source": [
    "alpha[(alpha['macro_uptrend'] == 1) & (alpha['Close'] > alpha['ma_7'])]['change_next'].hist(bins=20)"
   ]
  },
  {
   "cell_type": "code",
   "execution_count": 130,
   "metadata": {},
   "outputs": [
    {
     "data": {
      "text/plain": [
       "<matplotlib.axes._subplots.AxesSubplot at 0x1a26100fd0>"
      ]
     },
     "execution_count": 130,
     "metadata": {},
     "output_type": "execute_result"
    },
    {
     "data": {
      "image/png": "[encoded data removed]",
      "text/plain": [
       "<Figure size 432x288 with 1 Axes>"
      ]
     },
     "metadata": {
      "needs_background": "light"
     },
     "output_type": "display_data"
    }
   ],
   "source": [
    "alpha[(alpha['macro_uptrend'] == 1) & (alpha['Close'] < alpha['ma_7'])]['change_next'].hist(bins=20)"
   ]
  },
  {
   "cell_type": "code",
   "execution_count": 131,
   "metadata": {},
   "outputs": [
    {
     "data": {
      "text/plain": [
       "<matplotlib.axes._subplots.AxesSubplot at 0x1a26548890>"
      ]
     },
     "execution_count": 131,
     "metadata": {},
     "output_type": "execute_result"
    },
    {
     "data": {
      "image/png": "[encoded data removed]",
      "text/plain": [
       "<Figure size 432x288 with 1 Axes>"
      ]
     },
     "metadata": {
      "needs_background": "light"
     },
     "output_type": "display_data"
    }
   ],
   "source": [
    "alpha[(alpha['macro_uptrend'] == 0) & (alpha['Close'] > alpha['ma_7'])]['change_next'].hist(bins=20)"
   ]
  },
  {
   "cell_type": "code",
   "execution_count": 132,
   "metadata": {},
   "outputs": [
    {
     "data": {
      "text/plain": [
       "<matplotlib.axes._subplots.AxesSubplot at 0x1a2666a410>"
      ]
     },
     "execution_count": 132,
     "metadata": {},
     "output_type": "execute_result"
    },
    {
     "data": {
      "image/png": "[encoded data removed]",
      "text/plain": [
       "<Figure size 432x288 with 1 Axes>"
      ]
     },
     "metadata": {
      "needs_background": "light"
     },
     "output_type": "display_data"
    }
   ],
   "source": [
    "alpha[(alpha['macro_uptrend'] == 0) & (alpha['Close'] < alpha['ma_7'])]['change_next'].hist(bins=20)"
   ]
  },
  {
   "cell_type": "code",
   "execution_count": 148,
   "metadata": {},
   "outputs": [
    {
     "data": {
      "text/plain": [
       "<matplotlib.collections.PathCollection at 0x1a27155a10>"
      ]
     },
     "execution_count": 148,
     "metadata": {},
     "output_type": "execute_result"
    },
    {
     "data": {
      "image/png": "[encoded data removed]",
      "text/plain": [
       "<Figure size 432x288 with 1 Axes>"
      ]
     },
     "metadata": {
      "needs_background": "light"
     },
     "output_type": "display_data"
    }
   ],
   "source": [
    "macro = alpha[alpha['macro_uptrend'] == 1]\n",
    "plt.scatter(macro['pct_above_ma_200'], macro['change_next'])"
   ]
  },
  {
   "cell_type": "code",
   "execution_count": 147,
   "metadata": {},
   "outputs": [
    {
     "data": {
      "text/plain": [
       "<matplotlib.collections.PathCollection at 0x1a27284950>"
      ]
     },
     "execution_count": 147,
     "metadata": {},
     "output_type": "execute_result"
    },
    {
     "data": {
      "image/png": "[encoded data removed]",
      "text/plain": [
       "<Figure size 432x288 with 1 Axes>"
      ]
     },
     "metadata": {
      "needs_background": "light"
     },
     "output_type": "display_data"
    }
   ],
   "source": [
    "macro = alpha[alpha['macro_uptrend'] == 0]\n",
    "plt.scatter(macro['pct_above_ma_200'], macro['change_next'])"
   ]
  },
  {
   "cell_type": "code",
   "execution_count": null,
   "metadata": {},
   "outputs": [],
   "source": [
    "plt.scatter(alpha['']) "
   ]
  }
 ],
 "metadata": {
  "kernelspec": {
   "display_name": "Python 3",
   "language": "python",
   "name": "python3"
  },
  "language_info": {
   "codemirror_mode": {
    "name": "ipython",
    "version": 3
   },
   "file_extension": ".py",
   "mimetype": "text/x-python",
   "name": "python",
   "nbconvert_exporter": "python",
   "pygments_lexer": "ipython3",
   "version": "3.7.4"
  }
 },
 "nbformat": 4,
 "nbformat_minor": 2
}

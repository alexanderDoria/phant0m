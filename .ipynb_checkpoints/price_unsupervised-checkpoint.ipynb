{
 "cells": [
  {
   "cell_type": "code",
   "execution_count": 35,
   "metadata": {},
   "outputs": [],
   "source": [
    "from sklearn.cluster import KMeans\n",
    "import pandas as pd\n",
    "import numpy as np\n",
    "import matplotlib\n",
    "import matplotlib.pyplot as plt \n",
    "from sklearn.preprocessing import StandardScaler"
   ]
  },
  {
   "cell_type": "markdown",
   "metadata": {},
   "source": [
    "### read data"
   ]
  },
  {
   "cell_type": "code",
   "execution_count": 68,
   "metadata": {},
   "outputs": [],
   "source": [
    "stocks = pd.read_csv(\"data/SPY_daily.csv\")"
   ]
  },
  {
   "cell_type": "code",
   "execution_count": 63,
   "metadata": {},
   "outputs": [
    {
     "data": {
      "text/html": [
       "<div>\n",
       "<style scoped>\n",
       "    .dataframe tbody tr th:only-of-type {\n",
       "        vertical-align: middle;\n",
       "    }\n",
       "\n",
       "    .dataframe tbody tr th {\n",
       "        vertical-align: top;\n",
       "    }\n",
       "\n",
       "    .dataframe thead th {\n",
       "        text-align: right;\n",
       "    }\n",
       "</style>\n",
       "<table border=\"1\" class=\"dataframe\">\n",
       "  <thead>\n",
       "    <tr style=\"text-align: right;\">\n",
       "      <th></th>\n",
       "      <th>Date</th>\n",
       "      <th>Open</th>\n",
       "      <th>High</th>\n",
       "      <th>Low</th>\n",
       "      <th>Close</th>\n",
       "      <th>Adj Close</th>\n",
       "      <th>Volume</th>\n",
       "    </tr>\n",
       "  </thead>\n",
       "  <tbody>\n",
       "    <tr>\n",
       "      <td>0</td>\n",
       "      <td>1993-01-29</td>\n",
       "      <td>43.96875</td>\n",
       "      <td>43.96875</td>\n",
       "      <td>43.75000</td>\n",
       "      <td>43.93750</td>\n",
       "      <td>26.453930</td>\n",
       "      <td>1003200</td>\n",
       "    </tr>\n",
       "    <tr>\n",
       "      <td>1</td>\n",
       "      <td>1993-02-01</td>\n",
       "      <td>43.96875</td>\n",
       "      <td>44.25000</td>\n",
       "      <td>43.96875</td>\n",
       "      <td>44.25000</td>\n",
       "      <td>26.642057</td>\n",
       "      <td>480500</td>\n",
       "    </tr>\n",
       "    <tr>\n",
       "      <td>2</td>\n",
       "      <td>1993-02-02</td>\n",
       "      <td>44.21875</td>\n",
       "      <td>44.37500</td>\n",
       "      <td>44.12500</td>\n",
       "      <td>44.34375</td>\n",
       "      <td>26.698507</td>\n",
       "      <td>201300</td>\n",
       "    </tr>\n",
       "    <tr>\n",
       "      <td>3</td>\n",
       "      <td>1993-02-03</td>\n",
       "      <td>44.40625</td>\n",
       "      <td>44.84375</td>\n",
       "      <td>44.37500</td>\n",
       "      <td>44.81250</td>\n",
       "      <td>26.980742</td>\n",
       "      <td>529400</td>\n",
       "    </tr>\n",
       "    <tr>\n",
       "      <td>4</td>\n",
       "      <td>1993-02-04</td>\n",
       "      <td>44.96875</td>\n",
       "      <td>45.09375</td>\n",
       "      <td>44.46875</td>\n",
       "      <td>45.00000</td>\n",
       "      <td>27.093624</td>\n",
       "      <td>531500</td>\n",
       "    </tr>\n",
       "  </tbody>\n",
       "</table>\n",
       "</div>"
      ],
      "text/plain": [
       "         Date      Open      High       Low     Close  Adj Close   Volume\n",
       "0  1993-01-29  43.96875  43.96875  43.75000  43.93750  26.453930  1003200\n",
       "1  1993-02-01  43.96875  44.25000  43.96875  44.25000  26.642057   480500\n",
       "2  1993-02-02  44.21875  44.37500  44.12500  44.34375  26.698507   201300\n",
       "3  1993-02-03  44.40625  44.84375  44.37500  44.81250  26.980742   529400\n",
       "4  1993-02-04  44.96875  45.09375  44.46875  45.00000  27.093624   531500"
      ]
     },
     "execution_count": 63,
     "metadata": {},
     "output_type": "execute_result"
    }
   ],
   "source": [
    "stocks.head()"
   ]
  },
  {
   "cell_type": "code",
   "execution_count": 69,
   "metadata": {},
   "outputs": [],
   "source": [
    "stocks['high_adj'] = (stocks['High'] - stocks['Close']) / stocks['Close']\n",
    "stocks['low_adj'] = (stocks['Close'] - stocks['High']) / stocks['High']\n",
    "stocks['body'] = (stocks['Close'] - stocks['Open']) / stocks['Open']\n",
    "stocks['close_prev'] = stocks['Close'].shift(1)\n",
    "stocks = stocks.iloc[1:]\n",
    "stocks['change'] = (stocks['Close'] - stocks['close_prev']) / stocks['close_prev']"
   ]
  },
  {
   "cell_type": "code",
   "execution_count": 65,
   "metadata": {},
   "outputs": [
    {
     "data": {
      "text/html": [
       "<div>\n",
       "<style scoped>\n",
       "    .dataframe tbody tr th:only-of-type {\n",
       "        vertical-align: middle;\n",
       "    }\n",
       "\n",
       "    .dataframe tbody tr th {\n",
       "        vertical-align: top;\n",
       "    }\n",
       "\n",
       "    .dataframe thead th {\n",
       "        text-align: right;\n",
       "    }\n",
       "</style>\n",
       "<table border=\"1\" class=\"dataframe\">\n",
       "  <thead>\n",
       "    <tr style=\"text-align: right;\">\n",
       "      <th></th>\n",
       "      <th>Date</th>\n",
       "      <th>Open</th>\n",
       "      <th>High</th>\n",
       "      <th>Low</th>\n",
       "      <th>Close</th>\n",
       "      <th>Adj Close</th>\n",
       "      <th>Volume</th>\n",
       "      <th>high_adj</th>\n",
       "      <th>low_adj</th>\n",
       "      <th>body</th>\n",
       "      <th>close_prev</th>\n",
       "      <th>change</th>\n",
       "    </tr>\n",
       "  </thead>\n",
       "  <tbody>\n",
       "    <tr>\n",
       "      <td>1</td>\n",
       "      <td>1993-02-01</td>\n",
       "      <td>43.96875</td>\n",
       "      <td>44.25000</td>\n",
       "      <td>43.96875</td>\n",
       "      <td>44.25000</td>\n",
       "      <td>26.642057</td>\n",
       "      <td>480500</td>\n",
       "      <td>0.000000</td>\n",
       "      <td>0.000000</td>\n",
       "      <td>0.006397</td>\n",
       "      <td>43.93750</td>\n",
       "      <td>0.007112</td>\n",
       "    </tr>\n",
       "    <tr>\n",
       "      <td>2</td>\n",
       "      <td>1993-02-02</td>\n",
       "      <td>44.21875</td>\n",
       "      <td>44.37500</td>\n",
       "      <td>44.12500</td>\n",
       "      <td>44.34375</td>\n",
       "      <td>26.698507</td>\n",
       "      <td>201300</td>\n",
       "      <td>0.000705</td>\n",
       "      <td>-0.000704</td>\n",
       "      <td>0.002827</td>\n",
       "      <td>44.25000</td>\n",
       "      <td>0.002119</td>\n",
       "    </tr>\n",
       "    <tr>\n",
       "      <td>3</td>\n",
       "      <td>1993-02-03</td>\n",
       "      <td>44.40625</td>\n",
       "      <td>44.84375</td>\n",
       "      <td>44.37500</td>\n",
       "      <td>44.81250</td>\n",
       "      <td>26.980742</td>\n",
       "      <td>529400</td>\n",
       "      <td>0.000697</td>\n",
       "      <td>-0.000697</td>\n",
       "      <td>0.009148</td>\n",
       "      <td>44.34375</td>\n",
       "      <td>0.010571</td>\n",
       "    </tr>\n",
       "    <tr>\n",
       "      <td>4</td>\n",
       "      <td>1993-02-04</td>\n",
       "      <td>44.96875</td>\n",
       "      <td>45.09375</td>\n",
       "      <td>44.46875</td>\n",
       "      <td>45.00000</td>\n",
       "      <td>27.093624</td>\n",
       "      <td>531500</td>\n",
       "      <td>0.002083</td>\n",
       "      <td>-0.002079</td>\n",
       "      <td>0.000695</td>\n",
       "      <td>44.81250</td>\n",
       "      <td>0.004184</td>\n",
       "    </tr>\n",
       "    <tr>\n",
       "      <td>5</td>\n",
       "      <td>1993-02-05</td>\n",
       "      <td>44.96875</td>\n",
       "      <td>45.06250</td>\n",
       "      <td>44.71875</td>\n",
       "      <td>44.96875</td>\n",
       "      <td>27.074818</td>\n",
       "      <td>492100</td>\n",
       "      <td>0.002085</td>\n",
       "      <td>-0.002080</td>\n",
       "      <td>0.000000</td>\n",
       "      <td>45.00000</td>\n",
       "      <td>-0.000694</td>\n",
       "    </tr>\n",
       "    <tr>\n",
       "      <td>6</td>\n",
       "      <td>1993-02-08</td>\n",
       "      <td>44.96875</td>\n",
       "      <td>45.12500</td>\n",
       "      <td>44.90625</td>\n",
       "      <td>44.96875</td>\n",
       "      <td>27.074818</td>\n",
       "      <td>596100</td>\n",
       "      <td>0.003475</td>\n",
       "      <td>-0.003463</td>\n",
       "      <td>0.000000</td>\n",
       "      <td>44.96875</td>\n",
       "      <td>0.000000</td>\n",
       "    </tr>\n",
       "    <tr>\n",
       "      <td>7</td>\n",
       "      <td>1993-02-09</td>\n",
       "      <td>44.81250</td>\n",
       "      <td>44.81250</td>\n",
       "      <td>44.56250</td>\n",
       "      <td>44.65625</td>\n",
       "      <td>26.886669</td>\n",
       "      <td>122100</td>\n",
       "      <td>0.003499</td>\n",
       "      <td>-0.003487</td>\n",
       "      <td>-0.003487</td>\n",
       "      <td>44.96875</td>\n",
       "      <td>-0.006949</td>\n",
       "    </tr>\n",
       "    <tr>\n",
       "      <td>8</td>\n",
       "      <td>1993-02-10</td>\n",
       "      <td>44.65625</td>\n",
       "      <td>44.75000</td>\n",
       "      <td>44.53125</td>\n",
       "      <td>44.71875</td>\n",
       "      <td>26.924292</td>\n",
       "      <td>379600</td>\n",
       "      <td>0.000699</td>\n",
       "      <td>-0.000698</td>\n",
       "      <td>0.001400</td>\n",
       "      <td>44.65625</td>\n",
       "      <td>0.001400</td>\n",
       "    </tr>\n",
       "    <tr>\n",
       "      <td>9</td>\n",
       "      <td>1993-02-11</td>\n",
       "      <td>44.78125</td>\n",
       "      <td>45.12500</td>\n",
       "      <td>44.78125</td>\n",
       "      <td>44.93750</td>\n",
       "      <td>27.055990</td>\n",
       "      <td>19500</td>\n",
       "      <td>0.004172</td>\n",
       "      <td>-0.004155</td>\n",
       "      <td>0.003489</td>\n",
       "      <td>44.71875</td>\n",
       "      <td>0.004892</td>\n",
       "    </tr>\n",
       "    <tr>\n",
       "      <td>10</td>\n",
       "      <td>1993-02-12</td>\n",
       "      <td>44.87500</td>\n",
       "      <td>44.87500</td>\n",
       "      <td>44.59375</td>\n",
       "      <td>44.59375</td>\n",
       "      <td>26.849037</td>\n",
       "      <td>42500</td>\n",
       "      <td>0.006307</td>\n",
       "      <td>-0.006267</td>\n",
       "      <td>-0.006267</td>\n",
       "      <td>44.93750</td>\n",
       "      <td>-0.007650</td>\n",
       "    </tr>\n",
       "  </tbody>\n",
       "</table>\n",
       "</div>"
      ],
      "text/plain": [
       "          Date      Open      High       Low     Close  Adj Close  Volume  \\\n",
       "1   1993-02-01  43.96875  44.25000  43.96875  44.25000  26.642057  480500   \n",
       "2   1993-02-02  44.21875  44.37500  44.12500  44.34375  26.698507  201300   \n",
       "3   1993-02-03  44.40625  44.84375  44.37500  44.81250  26.980742  529400   \n",
       "4   1993-02-04  44.96875  45.09375  44.46875  45.00000  27.093624  531500   \n",
       "5   1993-02-05  44.96875  45.06250  44.71875  44.96875  27.074818  492100   \n",
       "6   1993-02-08  44.96875  45.12500  44.90625  44.96875  27.074818  596100   \n",
       "7   1993-02-09  44.81250  44.81250  44.56250  44.65625  26.886669  122100   \n",
       "8   1993-02-10  44.65625  44.75000  44.53125  44.71875  26.924292  379600   \n",
       "9   1993-02-11  44.78125  45.12500  44.78125  44.93750  27.055990   19500   \n",
       "10  1993-02-12  44.87500  44.87500  44.59375  44.59375  26.849037   42500   \n",
       "\n",
       "    high_adj   low_adj      body  close_prev    change  \n",
       "1   0.000000  0.000000  0.006397    43.93750  0.007112  \n",
       "2   0.000705 -0.000704  0.002827    44.25000  0.002119  \n",
       "3   0.000697 -0.000697  0.009148    44.34375  0.010571  \n",
       "4   0.002083 -0.002079  0.000695    44.81250  0.004184  \n",
       "5   0.002085 -0.002080  0.000000    45.00000 -0.000694  \n",
       "6   0.003475 -0.003463  0.000000    44.96875  0.000000  \n",
       "7   0.003499 -0.003487 -0.003487    44.96875 -0.006949  \n",
       "8   0.000699 -0.000698  0.001400    44.65625  0.001400  \n",
       "9   0.004172 -0.004155  0.003489    44.71875  0.004892  \n",
       "10  0.006307 -0.006267 -0.006267    44.93750 -0.007650  "
      ]
     },
     "execution_count": 65,
     "metadata": {},
     "output_type": "execute_result"
    }
   ],
   "source": [
    "stocks.head(10)"
   ]
  },
  {
   "cell_type": "markdown",
   "metadata": {},
   "source": [
    "### explore data"
   ]
  },
  {
   "cell_type": "code",
   "execution_count": 66,
   "metadata": {
    "scrolled": true
   },
   "outputs": [
    {
     "data": {
      "text/html": [
       "<div>\n",
       "<style scoped>\n",
       "    .dataframe tbody tr th:only-of-type {\n",
       "        vertical-align: middle;\n",
       "    }\n",
       "\n",
       "    .dataframe tbody tr th {\n",
       "        vertical-align: top;\n",
       "    }\n",
       "\n",
       "    .dataframe thead th {\n",
       "        text-align: right;\n",
       "    }\n",
       "</style>\n",
       "<table border=\"1\" class=\"dataframe\">\n",
       "  <thead>\n",
       "    <tr style=\"text-align: right;\">\n",
       "      <th></th>\n",
       "      <th>body</th>\n",
       "      <th>low_adj</th>\n",
       "      <th>high_adj</th>\n",
       "    </tr>\n",
       "  </thead>\n",
       "  <tbody>\n",
       "    <tr>\n",
       "      <td>count</td>\n",
       "      <td>6779.000000</td>\n",
       "      <td>6779.000000</td>\n",
       "      <td>6779.000000</td>\n",
       "    </tr>\n",
       "    <tr>\n",
       "      <td>mean</td>\n",
       "      <td>0.000027</td>\n",
       "      <td>-0.006043</td>\n",
       "      <td>0.006136</td>\n",
       "    </tr>\n",
       "    <tr>\n",
       "      <td>std</td>\n",
       "      <td>0.009617</td>\n",
       "      <td>0.007343</td>\n",
       "      <td>0.007620</td>\n",
       "    </tr>\n",
       "    <tr>\n",
       "      <td>min</td>\n",
       "      <td>-0.089906</td>\n",
       "      <td>-0.098589</td>\n",
       "      <td>0.000000</td>\n",
       "    </tr>\n",
       "    <tr>\n",
       "      <td>25%</td>\n",
       "      <td>-0.004124</td>\n",
       "      <td>-0.007950</td>\n",
       "      <td>0.001444</td>\n",
       "    </tr>\n",
       "    <tr>\n",
       "      <td>50%</td>\n",
       "      <td>0.000373</td>\n",
       "      <td>-0.003559</td>\n",
       "      <td>0.003572</td>\n",
       "    </tr>\n",
       "    <tr>\n",
       "      <td>75%</td>\n",
       "      <td>0.004487</td>\n",
       "      <td>-0.001442</td>\n",
       "      <td>0.008013</td>\n",
       "    </tr>\n",
       "    <tr>\n",
       "      <td>max</td>\n",
       "      <td>0.092963</td>\n",
       "      <td>0.000000</td>\n",
       "      <td>0.109372</td>\n",
       "    </tr>\n",
       "  </tbody>\n",
       "</table>\n",
       "</div>"
      ],
      "text/plain": [
       "              body      low_adj     high_adj\n",
       "count  6779.000000  6779.000000  6779.000000\n",
       "mean      0.000027    -0.006043     0.006136\n",
       "std       0.009617     0.007343     0.007620\n",
       "min      -0.089906    -0.098589     0.000000\n",
       "25%      -0.004124    -0.007950     0.001444\n",
       "50%       0.000373    -0.003559     0.003572\n",
       "75%       0.004487    -0.001442     0.008013\n",
       "max       0.092963     0.000000     0.109372"
      ]
     },
     "execution_count": 66,
     "metadata": {},
     "output_type": "execute_result"
    }
   ],
   "source": [
    "stocks[['body', 'low_adj', 'high_adj']].describe()"
   ]
  },
  {
   "cell_type": "code",
   "execution_count": 25,
   "metadata": {},
   "outputs": [
    {
     "data": {
      "text/plain": [
       "<matplotlib.collections.PathCollection at 0xa1ea42790>"
      ]
     },
     "execution_count": 25,
     "metadata": {},
     "output_type": "execute_result"
    },
    {
     "data": {
      "image/png": "[encoded data removed]",
      "text/plain": [
       "<Figure size 432x288 with 1 Axes>"
      ]
     },
     "metadata": {
      "needs_background": "light"
     },
     "output_type": "display_data"
    }
   ],
   "source": [
    "plt.scatter(stocks['body'], stocks['change'])"
   ]
  },
  {
   "cell_type": "code",
   "execution_count": 26,
   "metadata": {},
   "outputs": [
    {
     "data": {
      "text/plain": [
       "<matplotlib.collections.PathCollection at 0x1a244de950>"
      ]
     },
     "execution_count": 26,
     "metadata": {},
     "output_type": "execute_result"
    },
    {
     "data": {
      "image/png": "[encoded data removed]",
      "text/plain": [
       "<Figure size 432x288 with 1 Axes>"
      ]
     },
     "metadata": {
      "needs_background": "light"
     },
     "output_type": "display_data"
    }
   ],
   "source": [
    "plt.scatter(stocks['high_adj'], stocks['change'])"
   ]
  },
  {
   "cell_type": "code",
   "execution_count": 27,
   "metadata": {},
   "outputs": [
    {
     "data": {
      "text/plain": [
       "<matplotlib.collections.PathCollection at 0x1a246a07d0>"
      ]
     },
     "execution_count": 27,
     "metadata": {},
     "output_type": "execute_result"
    },
    {
     "data": {
      "image/png": "[encoded data removed]",
      "text/plain": [
       "<Figure size 432x288 with 1 Axes>"
      ]
     },
     "metadata": {
      "needs_background": "light"
     },
     "output_type": "display_data"
    }
   ],
   "source": [
    "plt.scatter(stocks['low_adj'], stocks['change'])"
   ]
  },
  {
   "cell_type": "code",
   "execution_count": 30,
   "metadata": {},
   "outputs": [
    {
     "data": {
      "text/plain": [
       "(array([2.000e+00, 2.000e+00, 5.000e+00, 8.000e+00, 2.200e+01, 9.700e+01,\n",
       "        4.400e+02, 2.150e+03, 3.302e+03, 6.050e+02, 9.900e+01, 2.700e+01,\n",
       "        1.200e+01, 4.000e+00, 0.000e+00, 0.000e+00, 0.000e+00, 1.000e+00,\n",
       "        0.000e+00, 1.000e+00]),\n",
       " array([-0.09844768, -0.08626541, -0.07408314, -0.06190087, -0.0497186 ,\n",
       "        -0.03753633, -0.02535406, -0.01317179, -0.00098952,  0.01119275,\n",
       "         0.02337502,  0.03555729,  0.04773956,  0.05992183,  0.0721041 ,\n",
       "         0.08428637,  0.09646864,  0.10865091,  0.12083318,  0.13301545,\n",
       "         0.14519772]),\n",
       " <a list of 20 Patch objects>)"
      ]
     },
     "execution_count": 30,
     "metadata": {},
     "output_type": "execute_result"
    },
    {
     "data": {
      "image/png": "[encoded data removed]",
      "text/plain": [
       "<Figure size 432x288 with 1 Axes>"
      ]
     },
     "metadata": {
      "needs_background": "light"
     },
     "output_type": "display_data"
    }
   ],
   "source": [
    "plt.hist(stocks['change'], bins=20)"
   ]
  },
  {
   "cell_type": "markdown",
   "metadata": {},
   "source": [
    "### clustering"
   ]
  },
  {
   "cell_type": "code",
   "execution_count": 70,
   "metadata": {},
   "outputs": [],
   "source": [
    "data = stocks[['high_adj', 'low_adj', 'body', 'change']]\n",
    "data = data.to_numpy()\n",
    "data = StandardScaler().fit_transform(data)\n",
    "\n",
    "kmeans = KMeans(init='k-means++', n_clusters=8, n_init=12)\n",
    "kmeans.fit(data)\n",
    "labels = kmeans.labels_\n",
    "stocks['cluster'] = labels"
   ]
  },
  {
   "cell_type": "code",
   "execution_count": 59,
   "metadata": {},
   "outputs": [
    {
     "data": {
      "text/html": [
       "<div>\n",
       "<style scoped>\n",
       "    .dataframe tbody tr th:only-of-type {\n",
       "        vertical-align: middle;\n",
       "    }\n",
       "\n",
       "    .dataframe tbody tr th {\n",
       "        vertical-align: top;\n",
       "    }\n",
       "\n",
       "    .dataframe thead th {\n",
       "        text-align: right;\n",
       "    }\n",
       "</style>\n",
       "<table border=\"1\" class=\"dataframe\">\n",
       "  <thead>\n",
       "    <tr style=\"text-align: right;\">\n",
       "      <th></th>\n",
       "      <th>Date</th>\n",
       "      <th>Open</th>\n",
       "      <th>High</th>\n",
       "      <th>Low</th>\n",
       "      <th>Close</th>\n",
       "      <th>Adj Close</th>\n",
       "      <th>Volume</th>\n",
       "      <th>high_adj</th>\n",
       "      <th>low_adj</th>\n",
       "      <th>body</th>\n",
       "      <th>close_prev</th>\n",
       "      <th>change</th>\n",
       "      <th>labels</th>\n",
       "    </tr>\n",
       "  </thead>\n",
       "  <tbody>\n",
       "    <tr>\n",
       "      <td>1</td>\n",
       "      <td>1993-02-01</td>\n",
       "      <td>43.96875</td>\n",
       "      <td>44.25000</td>\n",
       "      <td>43.96875</td>\n",
       "      <td>44.25000</td>\n",
       "      <td>26.642057</td>\n",
       "      <td>480500</td>\n",
       "      <td>0.000000</td>\n",
       "      <td>0.000000</td>\n",
       "      <td>0.006397</td>\n",
       "      <td>43.93750</td>\n",
       "      <td>0.007112</td>\n",
       "      <td>1</td>\n",
       "    </tr>\n",
       "    <tr>\n",
       "      <td>2</td>\n",
       "      <td>1993-02-02</td>\n",
       "      <td>44.21875</td>\n",
       "      <td>44.37500</td>\n",
       "      <td>44.12500</td>\n",
       "      <td>44.34375</td>\n",
       "      <td>26.698507</td>\n",
       "      <td>201300</td>\n",
       "      <td>0.000705</td>\n",
       "      <td>-0.000704</td>\n",
       "      <td>0.002827</td>\n",
       "      <td>44.25000</td>\n",
       "      <td>0.002119</td>\n",
       "      <td>7</td>\n",
       "    </tr>\n",
       "    <tr>\n",
       "      <td>3</td>\n",
       "      <td>1993-02-03</td>\n",
       "      <td>44.40625</td>\n",
       "      <td>44.84375</td>\n",
       "      <td>44.37500</td>\n",
       "      <td>44.81250</td>\n",
       "      <td>26.980742</td>\n",
       "      <td>529400</td>\n",
       "      <td>0.000697</td>\n",
       "      <td>-0.000697</td>\n",
       "      <td>0.009148</td>\n",
       "      <td>44.34375</td>\n",
       "      <td>0.010571</td>\n",
       "      <td>1</td>\n",
       "    </tr>\n",
       "    <tr>\n",
       "      <td>4</td>\n",
       "      <td>1993-02-04</td>\n",
       "      <td>44.96875</td>\n",
       "      <td>45.09375</td>\n",
       "      <td>44.46875</td>\n",
       "      <td>45.00000</td>\n",
       "      <td>27.093624</td>\n",
       "      <td>531500</td>\n",
       "      <td>0.002083</td>\n",
       "      <td>-0.002079</td>\n",
       "      <td>0.000695</td>\n",
       "      <td>44.81250</td>\n",
       "      <td>0.004184</td>\n",
       "      <td>7</td>\n",
       "    </tr>\n",
       "    <tr>\n",
       "      <td>5</td>\n",
       "      <td>1993-02-05</td>\n",
       "      <td>44.96875</td>\n",
       "      <td>45.06250</td>\n",
       "      <td>44.71875</td>\n",
       "      <td>44.96875</td>\n",
       "      <td>27.074818</td>\n",
       "      <td>492100</td>\n",
       "      <td>0.002085</td>\n",
       "      <td>-0.002080</td>\n",
       "      <td>0.000000</td>\n",
       "      <td>45.00000</td>\n",
       "      <td>-0.000694</td>\n",
       "      <td>7</td>\n",
       "    </tr>\n",
       "  </tbody>\n",
       "</table>\n",
       "</div>"
      ],
      "text/plain": [
       "         Date      Open      High       Low     Close  Adj Close  Volume  \\\n",
       "1  1993-02-01  43.96875  44.25000  43.96875  44.25000  26.642057  480500   \n",
       "2  1993-02-02  44.21875  44.37500  44.12500  44.34375  26.698507  201300   \n",
       "3  1993-02-03  44.40625  44.84375  44.37500  44.81250  26.980742  529400   \n",
       "4  1993-02-04  44.96875  45.09375  44.46875  45.00000  27.093624  531500   \n",
       "5  1993-02-05  44.96875  45.06250  44.71875  44.96875  27.074818  492100   \n",
       "\n",
       "   high_adj   low_adj      body  close_prev    change  labels  \n",
       "1  0.000000  0.000000  0.006397    43.93750  0.007112       1  \n",
       "2  0.000705 -0.000704  0.002827    44.25000  0.002119       7  \n",
       "3  0.000697 -0.000697  0.009148    44.34375  0.010571       1  \n",
       "4  0.002083 -0.002079  0.000695    44.81250  0.004184       7  \n",
       "5  0.002085 -0.002080  0.000000    45.00000 -0.000694       7  "
      ]
     },
     "execution_count": 59,
     "metadata": {},
     "output_type": "execute_result"
    }
   ],
   "source": [
    "stocks.head()"
   ]
  },
  {
   "cell_type": "code",
   "execution_count": 73,
   "metadata": {},
   "outputs": [
    {
     "data": {
      "text/plain": [
       "(array([2627.,  752., 1586.,    0.,   85.,  173.,    0., 1181.,  365.,\n",
       "          10.]),\n",
       " array([0. , 0.7, 1.4, 2.1, 2.8, 3.5, 4.2, 4.9, 5.6, 6.3, 7. ]),\n",
       " <a list of 10 Patch objects>)"
      ]
     },
     "execution_count": 73,
     "metadata": {},
     "output_type": "execute_result"
    },
    {
     "data": {
      "image/png": "[encoded data removed]",
      "text/plain": [
       "<Figure size 432x288 with 1 Axes>"
      ]
     },
     "metadata": {
      "needs_background": "light"
     },
     "output_type": "display_data"
    }
   ],
   "source": [
    "plt.hist(stocks['cluster'])"
   ]
  },
  {
   "cell_type": "code",
   "execution_count": 74,
   "metadata": {},
   "outputs": [
    {
     "data": {
      "text/plain": [
       "<matplotlib.collections.PathCollection at 0x1a24f87410>"
      ]
     },
     "execution_count": 74,
     "metadata": {},
     "output_type": "execute_result"
    },
    {
     "data": {
      "image/png": "[encoded data removed]",
      "text/plain": [
       "<Figure size 432x288 with 1 Axes>"
      ]
     },
     "metadata": {
      "needs_background": "light"
     },
     "output_type": "display_data"
    }
   ],
   "source": [
    "plt.scatter(stocks['cluster'], stocks['change'])"
   ]
  },
  {
   "cell_type": "code",
   "execution_count": 75,
   "metadata": {},
   "outputs": [
    {
     "data": {
      "text/html": [
       "<div>\n",
       "<style scoped>\n",
       "    .dataframe tbody tr th:only-of-type {\n",
       "        vertical-align: middle;\n",
       "    }\n",
       "\n",
       "    .dataframe tbody tr th {\n",
       "        vertical-align: top;\n",
       "    }\n",
       "\n",
       "    .dataframe thead th {\n",
       "        text-align: right;\n",
       "    }\n",
       "</style>\n",
       "<table border=\"1\" class=\"dataframe\">\n",
       "  <thead>\n",
       "    <tr style=\"text-align: right;\">\n",
       "      <th></th>\n",
       "      <th>change</th>\n",
       "      <th>high_adj</th>\n",
       "      <th>low_adj</th>\n",
       "      <th>body</th>\n",
       "    </tr>\n",
       "    <tr>\n",
       "      <th>cluster</th>\n",
       "      <th></th>\n",
       "      <th></th>\n",
       "      <th></th>\n",
       "      <th></th>\n",
       "    </tr>\n",
       "  </thead>\n",
       "  <tbody>\n",
       "    <tr>\n",
       "      <td>0</td>\n",
       "      <td>0.002040</td>\n",
       "      <td>0.002078</td>\n",
       "      <td>-0.002072</td>\n",
       "      <td>0.001812</td>\n",
       "    </tr>\n",
       "    <tr>\n",
       "      <td>1</td>\n",
       "      <td>-0.009827</td>\n",
       "      <td>0.013213</td>\n",
       "      <td>-0.013033</td>\n",
       "      <td>-0.009061</td>\n",
       "    </tr>\n",
       "    <tr>\n",
       "      <td>2</td>\n",
       "      <td>-0.002864</td>\n",
       "      <td>0.006802</td>\n",
       "      <td>-0.006751</td>\n",
       "      <td>-0.002731</td>\n",
       "    </tr>\n",
       "    <tr>\n",
       "      <td>3</td>\n",
       "      <td>-0.031713</td>\n",
       "      <td>0.039944</td>\n",
       "      <td>-0.038346</td>\n",
       "      <td>-0.025613</td>\n",
       "    </tr>\n",
       "    <tr>\n",
       "      <td>4</td>\n",
       "      <td>0.031931</td>\n",
       "      <td>0.003131</td>\n",
       "      <td>-0.003107</td>\n",
       "      <td>0.025903</td>\n",
       "    </tr>\n",
       "    <tr>\n",
       "      <td>5</td>\n",
       "      <td>0.011521</td>\n",
       "      <td>0.002019</td>\n",
       "      <td>-0.002010</td>\n",
       "      <td>0.009378</td>\n",
       "    </tr>\n",
       "    <tr>\n",
       "      <td>6</td>\n",
       "      <td>-0.018353</td>\n",
       "      <td>0.022722</td>\n",
       "      <td>-0.022206</td>\n",
       "      <td>-0.016891</td>\n",
       "    </tr>\n",
       "    <tr>\n",
       "      <td>7</td>\n",
       "      <td>-0.072726</td>\n",
       "      <td>0.079689</td>\n",
       "      <td>-0.073672</td>\n",
       "      <td>-0.064369</td>\n",
       "    </tr>\n",
       "  </tbody>\n",
       "</table>\n",
       "</div>"
      ],
      "text/plain": [
       "           change  high_adj   low_adj      body\n",
       "cluster                                        \n",
       "0        0.002040  0.002078 -0.002072  0.001812\n",
       "1       -0.009827  0.013213 -0.013033 -0.009061\n",
       "2       -0.002864  0.006802 -0.006751 -0.002731\n",
       "3       -0.031713  0.039944 -0.038346 -0.025613\n",
       "4        0.031931  0.003131 -0.003107  0.025903\n",
       "5        0.011521  0.002019 -0.002010  0.009378\n",
       "6       -0.018353  0.022722 -0.022206 -0.016891\n",
       "7       -0.072726  0.079689 -0.073672 -0.064369"
      ]
     },
     "execution_count": 75,
     "metadata": {},
     "output_type": "execute_result"
    }
   ],
   "source": [
    "stocks.groupby('cluster')[['change', 'high_adj', 'low_adj', 'body']].mean()"
   ]
  },
  {
   "cell_type": "code",
   "execution_count": 76,
   "metadata": {},
   "outputs": [
    {
     "ename": "ModuleNotFoundError",
     "evalue": "No module named 'plotly'",
     "output_type": "error",
     "traceback": [
      "\u001b[0;31m---------------------------------------------------------------------------\u001b[0m",
      "\u001b[0;31mModuleNotFoundError\u001b[0m                       Traceback (most recent call last)",
      "\u001b[0;32m<ipython-input-76-6361d2547ebc>\u001b[0m in \u001b[0;36m<module>\u001b[0;34m\u001b[0m\n\u001b[0;32m----> 1\u001b[0;31m \u001b[0;32mimport\u001b[0m \u001b[0mplotly\u001b[0m\u001b[0;34m\u001b[0m\u001b[0;34m\u001b[0m\u001b[0m\n\u001b[0m",
      "\u001b[0;31mModuleNotFoundError\u001b[0m: No module named 'plotly'"
     ]
    }
   ],
   "source": [
    "import plotly"
   ]
  },
  {
   "cell_type": "code",
   "execution_count": null,
   "metadata": {},
   "outputs": [],
   "source": []
  }
 ],
 "metadata": {
  "kernelspec": {
   "display_name": "Python 3",
   "language": "python",
   "name": "python3"
  },
  "language_info": {
   "codemirror_mode": {
    "name": "ipython",
    "version": 3
   },
   "file_extension": ".py",
   "mimetype": "text/x-python",
   "name": "python",
   "nbconvert_exporter": "python",
   "pygments_lexer": "ipython3",
   "version": "3.7.4"
  }
 },
 "nbformat": 4,
 "nbformat_minor": 2
}

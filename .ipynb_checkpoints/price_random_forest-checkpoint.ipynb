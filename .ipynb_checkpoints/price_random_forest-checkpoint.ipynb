{
 "cells": [
  {
   "cell_type": "code",
   "execution_count": 235,
   "metadata": {},
   "outputs": [],
   "source": [
    "import pandas as pd\n",
    "from sklearn.metrics import classification_report\n",
    "from sklearn.ensemble import RandomForestClassifier"
   ]
  },
  {
   "cell_type": "code",
   "execution_count": 232,
   "metadata": {},
   "outputs": [],
   "source": [
    "alpha = pd.read_csv(\"data/QQQ_daily.csv\")\n",
    "omega = pd.read_csv(\"data/SPY_daily.csv\")"
   ]
  },
  {
   "cell_type": "code",
   "execution_count": 234,
   "metadata": {},
   "outputs": [],
   "source": [
    "#performance features\n",
    "alpha['high_adj'] = (alpha['High'] - alpha['Close']) / alpha['Close']\n",
    "alpha['low_adj'] = (alpha['Low'] - alpha['Close']) / alpha['Close']\n",
    "alpha['body'] = (alpha['Close'] - alpha['Open']) / alpha['Open']\n",
    "\n",
    "#return features\n",
    "alpha['close_prev'] = alpha['Close'].shift(1)\n",
    "alpha['close_next'] = alpha['Close'].shift(-1)\n",
    "alpha['close_next_3_days'] = alpha['Close'].shift(-3)\n",
    "\n",
    "alpha['close_prev_week'] = alpha['Close'].shift(7)\n",
    "alpha['close_next_week'] = alpha['Close'].shift(-7)\n",
    "\n",
    "alpha['change'] = (alpha['Close'] - alpha['close_prev']) / alpha['close_prev']\n",
    "alpha['change_next'] = (alpha['close_next'] - alpha['Close']) / alpha['Close']\n",
    "alpha['change_next_3_days'] = (alpha['close_next_3_days'] - alpha['Close']) / alpha['Close']\n",
    "alpha['change_next_week'] = (alpha['close_next_week'] - alpha['Close']) / alpha['Close']\n",
    "\n",
    "#MA features\n",
    "alpha['ma_7'] = alpha['Close'].rolling(window=7).mean()\n",
    "alpha['ma_3'] = alpha['Close'].rolling(window=3).mean()\n",
    "alpha['ma_200'] = alpha['Close'].rolling(window=200).mean()\n",
    "\n",
    "#macro trend (above longer term MA)\n",
    "alpha['macro_uptrend'] = alpha['ma_200'] < alpha['Close']\n",
    "alpha['macro_uptrend'] = alpha['macro_uptrend'].apply(lambda x: 1 if x else 0)\n",
    "alpha['pct_above_ma_200'] = (alpha['Close'] - alpha['ma_200']) / alpha['Close']\n",
    "\n",
    "#micro trend (above shorter term MA)\n",
    "alpha['pct_above_ma_7'] = (alpha['Close'] - alpha['ma_7']) / alpha['Close']\n",
    "alpha['pct_above_ma_3'] = (alpha['Close'] - alpha['ma_3']) / alpha['Close']\n",
    "\n",
    "#normalized MA slopes\n",
    "alpha['ma_7_prev'] = alpha['ma_7'].shift(1) \n",
    "alpha['ma_7_change'] = (alpha['ma_7'] - alpha['ma_7_prev']) / alpha['ma_7_prev']\n",
    "alpha['ma_3_prev'] = alpha['ma_3'].shift(1) \n",
    "alpha['ma_3_change'] = (alpha['ma_3'] - alpha['ma_3_prev']) / alpha['ma_3_prev']\n",
    "\n",
    "\n"
   ]
  },
  {
   "cell_type": "code",
   "execution_count": null,
   "metadata": {},
   "outputs": [],
   "source": [
    "X = np.asanyarray(alpha[['high_adj', 'low_adj', 'body'\n",
    "                        'pct_above_ma_200', 'pct_above_ma_7', 'pct_above_ma_3',\n",
    "                        'ma_7_change', 'ma_3_change']])\n",
    "Y = np.asanyarray()"
   ]
  },
  {
   "cell_type": "code",
   "execution_count": null,
   "metadata": {},
   "outputs": [],
   "source": []
  }
 ],
 "metadata": {
  "kernelspec": {
   "display_name": "Python 3",
   "language": "python",
   "name": "python3"
  },
  "language_info": {
   "codemirror_mode": {
    "name": "ipython",
    "version": 3
   },
   "file_extension": ".py",
   "mimetype": "text/x-python",
   "name": "python",
   "nbconvert_exporter": "python",
   "pygments_lexer": "ipython3",
   "version": "3.7.4"
  }
 },
 "nbformat": 4,
 "nbformat_minor": 2
}
